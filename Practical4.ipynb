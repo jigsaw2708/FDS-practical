{
  "nbformat": 4,
  "nbformat_minor": 0,
  "metadata": {
    "colab": {
      "name": "Practical4.ipynb",
      "provenance": [],
      "authorship_tag": "ABX9TyPm42uirSSjnIR67tO3o/cE",
      "include_colab_link": true
    },
    "kernelspec": {
      "name": "python3",
      "display_name": "Python 3"
    },
    "language_info": {
      "name": "python"
    }
  },
  "cells": [
    {
      "cell_type": "markdown",
      "metadata": {
        "id": "view-in-github",
        "colab_type": "text"
      },
      "source": [
        "<a href=\"https://colab.research.google.com/github/jigsaw2708/FDS-practical/blob/main/Practical4.ipynb\" target=\"_parent\"><img src=\"https://colab.research.google.com/assets/colab-badge.svg\" alt=\"Open In Colab\"/></a>"
      ]
    },
    {
      "cell_type": "code",
      "metadata": {
        "colab": {
          "base_uri": "https://localhost:8080/"
        },
        "id": "jtuArraRq-el",
        "outputId": "f6ddd8cf-3167-4477-883a-e1693476350a"
      },
      "source": [
        "print('hello world')"
      ],
      "execution_count": 1,
      "outputs": [
        {
          "output_type": "stream",
          "name": "stdout",
          "text": [
            "hello world\n"
          ]
        }
      ]
    },
    {
      "cell_type": "code",
      "metadata": {
        "colab": {
          "base_uri": "https://localhost:8080/"
        },
        "id": "SduDWLYKsNgx",
        "outputId": "30dfc214-571d-4532-ada6-b0e33e4468f9"
      },
      "source": [
        "#DISCRETE DISTRIBUTION\n",
        "%matplotlib inline\n",
        "import matplotlib.pyplot as plt\n",
        "from IPython.display import Math , Latex\n",
        "from IPython.core.display import Image\n",
        "import numpy as np\n",
        "import seaborn as sms\n",
        "print('all are imported')"
      ],
      "execution_count": 2,
      "outputs": [
        {
          "output_type": "stream",
          "name": "stdout",
          "text": [
            "all are imported\n"
          ]
        }
      ]
    },
    {
      "cell_type": "code",
      "metadata": {
        "id": "sfVNUuLosP7m"
      },
      "source": [
        "sms.set(color_codes=True)\n",
        "sms.set(rc={'figure.figsize':(5,5)})"
      ],
      "execution_count": 3,
      "outputs": []
    },
    {
      "cell_type": "code",
      "metadata": {
        "colab": {
          "base_uri": "https://localhost:8080/",
          "height": 322
        },
        "id": "BwwPNlqOsVHM",
        "outputId": "b1e5a4d9-938c-4438-eb91-1590514fe699"
      },
      "source": [
        "from scipy.stats import randint\n",
        "import matplotlib.pyplot as plt\n",
        "fig,ax=plt.subplots(1,1)\n",
        "low,high=7,31\n",
        "mean, var,skew, kurt=randint.stats(low,high,moments='mvsk')\n",
        "x=np.arange(randint.ppf(0.01,low,high),randint.ppf(0.99,low,high))\n",
        "ax.plot(x,randint.pmf(x,low,high),'bo',ms=8,label='randint pmf')\n",
        "ax.vlines(x,0,randint.pmf(x,low,high),colors='b',lw=5,alpha=0.5)\n",
        "\n",
        "rv=randint(low,high)\n",
        "ax.vlines(x,0,rv.pmf(x),colors='k',linestyles='-',lw=1,label='frozen pmf')\n",
        "ax.legend(loc='best',frameon=False)\n",
        "plt.show()\n",
        "prob=randint.cdf(x,low,high)\n",
        "np.allclose(x,randint.ppf(prob,low,high))\n",
        "r=randint.rvs(low,high,size=1000)"
      ],
      "execution_count": 4,
      "outputs": [
        {
          "output_type": "display_data",
          "data": {
            "image/png": "[encoded data removed]",
            "text/plain": [
              "<Figure size 360x360 with 1 Axes>"
            ]
          },
          "metadata": {}
        }
      ]
    },
    {
      "cell_type": "code",
      "metadata": {
        "colab": {
          "base_uri": "https://localhost:8080/",
          "height": 411
        },
        "id": "W_L6QUaJsYqI",
        "outputId": "efeaf3ea-1a60-4942-95d1-fccf3af31604"
      },
      "source": [
        "#BERNOULLI DISTRIBUTION\n",
        "from scipy.stats import bernoulli\n",
        "data_bern=bernoulli.rvs(size=10000,p=0.6)\n",
        "\n",
        "ax=sms.distplot(data_bern, kde=False,color='skyblue',hist_kws={'linewidth':15, 'alpha':1})\n",
        "ax.set(xlabel='Bernoulli Distribution',ylabel='Frequency')"
      ],
      "execution_count": 5,
      "outputs": [
        {
          "output_type": "stream",
          "name": "stderr",
          "text": [
            "/usr/local/lib/python3.7/dist-packages/seaborn/distributions.py:2619: FutureWarning: `distplot` is a deprecated function and will be removed in a future version. Please adapt your code to use either `displot` (a figure-level function with similar flexibility) or `histplot` (an axes-level function for histograms).\n",
            "  warnings.warn(msg, FutureWarning)\n"
          ]
        },
        {
          "output_type": "execute_result",
          "data": {
            "text/plain": [
              "[Text(0, 0.5, 'Frequency'), Text(0.5, 0, 'Bernoulli Distribution')]"
            ]
          },
          "metadata": {},
          "execution_count": 5
        },
        {
          "output_type": "display_data",
          "data": {
            "image/png": "[encoded data removed]",
            "text/plain": [
              "<Figure size 360x360 with 1 Axes>"
            ]
          },
          "metadata": {}
        }
      ]
    },
    {
      "cell_type": "code",
      "metadata": {
        "id": "ECWVQf-KsbNI",
        "outputId": "cd8f4749-43a2-4260-dd50-540e307dab6c",
        "colab": {
          "base_uri": "https://localhost:8080/",
          "height": 411
        }
      },
      "source": [
        "#BINOMIAL DISTRIBUTION \n",
        "#either 1 or 0\n",
        "# n!/(n-x)!x!p^xq^n-x\n",
        "# x is success and n-x is failure which is y\n",
        "from scipy.stats import binom\n",
        "data_binom=binom.rvs(n=10,p=0.8,size=10000)\n",
        "ax=sms.distplot(data_binom,kde=False,color='skyblue', hist_kws={'linewidth':15,'alpha':1})\n",
        "ax.set(xlabel='Binomial Distribution', ylabel=\"Frquency\")"
      ],
      "execution_count": 6,
      "outputs": [
        {
          "output_type": "stream",
          "name": "stderr",
          "text": [
            "/usr/local/lib/python3.7/dist-packages/seaborn/distributions.py:2619: FutureWarning: `distplot` is a deprecated function and will be removed in a future version. Please adapt your code to use either `displot` (a figure-level function with similar flexibility) or `histplot` (an axes-level function for histograms).\n",
            "  warnings.warn(msg, FutureWarning)\n"
          ]
        },
        {
          "output_type": "execute_result",
          "data": {
            "text/plain": [
              "[Text(0, 0.5, 'Frquency'), Text(0.5, 0, 'Binomial Distribution')]"
            ]
          },
          "metadata": {},
          "execution_count": 6
        },
        {
          "output_type": "display_data",
          "data": {
            "image/png": "[encoded data removed]",
            "text/plain": [
              "<Figure size 360x360 with 1 Axes>"
            ]
          },
          "metadata": {}
        }
      ]
    },
    {
      "cell_type": "code",
      "metadata": {
        "id": "TUjq3ransd0g",
        "outputId": "037b0f7c-beae-426b-fdc0-dcc160b9e814",
        "colab": {
          "base_uri": "https://localhost:8080/",
          "height": 411
        }
      },
      "source": [
        "#POISSON DISTRIBUTION \n",
        "#e^-u * U^x/x!\n",
        "from scipy.stats import poisson\n",
        "data_poisson=poisson.rvs(mu=3,size=10000)\n",
        "\n",
        "ax=sms.distplot(data_poisson,bins=30,kde=False,color='skyblue', hist_kws={'linewidth':15,'alpha':1})\n",
        "ax.set(xlabel='Poisson Distribution', ylabel=\"Frquency\")"
      ],
      "execution_count": 7,
      "outputs": [
        {
          "output_type": "stream",
          "name": "stderr",
          "text": [
            "/usr/local/lib/python3.7/dist-packages/seaborn/distributions.py:2619: FutureWarning: `distplot` is a deprecated function and will be removed in a future version. Please adapt your code to use either `displot` (a figure-level function with similar flexibility) or `histplot` (an axes-level function for histograms).\n",
            "  warnings.warn(msg, FutureWarning)\n"
          ]
        },
        {
          "output_type": "execute_result",
          "data": {
            "text/plain": [
              "[Text(0, 0.5, 'Frquency'), Text(0.5, 0, 'Poisson Distribution')]"
            ]
          },
          "metadata": {},
          "execution_count": 7
        },
        {
          "output_type": "display_data",
          "data": {
            "image/png": "[encoded data removed]",
            "text/plain": [
              "<Figure size 360x360 with 1 Axes>"
            ]
          },
          "metadata": {}
        }
      ]
    }
  ]
}