{
  "nbformat": 4,
  "nbformat_minor": 0,
  "metadata": {
    "colab": {
      "name": "Practical3.ipynb",
      "provenance": [],
      "authorship_tag": "ABX9TyNEcPvbVaG451TX+aH6fIT5",
      "include_colab_link": true
    },
    "kernelspec": {
      "name": "python3",
      "display_name": "Python 3"
    },
    "language_info": {
      "name": "python"
    }
  },
  "cells": [
    {
      "cell_type": "markdown",
      "metadata": {
        "id": "view-in-github",
        "colab_type": "text"
      },
      "source": [
        "<a href=\"https://colab.research.google.com/github/jigsaw2708/FDS-practical/blob/main/Practical3.ipynb\" target=\"_parent\"><img src=\"https://colab.research.google.com/assets/colab-badge.svg\" alt=\"Open In Colab\"/></a>"
      ]
    },
    {
      "cell_type": "code",
      "metadata": {
        "colab": {
          "base_uri": "https://localhost:8080/"
        },
        "id": "_CvDnIoTs3Px",
        "outputId": "cbe813a9-cade-42e6-d8c8-666fe52b2c08"
      },
      "source": [
        "# Probability of getting 3 when a die is rolled\n",
        "ns={1,2,3,4,5,6}\n",
        "na={3}\n",
        "pa=len(na)/len(ns)\n",
        "print(\"Probability of getting 3 is \",pa)"
      ],
      "execution_count": null,
      "outputs": [
        {
          "output_type": "stream",
          "name": "stdout",
          "text": [
            "Probability of getting 3 is  0.16666666666666666\n"
          ]
        }
      ]
    },
    {
      "cell_type": "code",
      "metadata": {
        "colab": {
          "base_uri": "https://localhost:8080/"
        },
        "id": "6r0ZtVqJtI3J",
        "outputId": "a219d819-3f7d-4fd1-b263-db22d785b5fb"
      },
      "source": [
        "'''Calculate the probabillity of atleast getting one head when coin is tossed thrice'''\n",
        "\n",
        "ns={'HHH','THH','HTH','HHT','TTH','THT','HTT','TTT'}\n",
        "na={'HHH','THH','HTH','HHT','TTH','THT','HTT'}\n",
        "pa=len(na)/len(ns)\n",
        "print('Probability of atleast getting one head is ',pa)"
      ],
      "execution_count": null,
      "outputs": [
        {
          "output_type": "stream",
          "name": "stdout",
          "text": [
            "Probability of atleast getting one head is  0.875\n"
          ]
        }
      ]
    },
    {
      "cell_type": "code",
      "metadata": {
        "colab": {
          "base_uri": "https://localhost:8080/"
        },
        "id": "oQFkrZAxtLTP",
        "outputId": "c199e37c-7d79-479b-b327-46f5eefe4e5a"
      },
      "source": [
        "'''Glass of jar contain 5 red,3 blue and 2 green jelly beans. If a jelly is chosen at random from jar, what is probability that it is not a blue'''\n",
        "ns=10\n",
        "na=7\n",
        "pa=na/ns\n",
        "print('Probability of not getting blue jar is',pa)"
      ],
      "execution_count": null,
      "outputs": [
        {
          "output_type": "stream",
          "name": "stdout",
          "text": [
            "Probability of not getting blue jar is 0.7\n"
          ]
        }
      ]
    },
    {
      "cell_type": "code",
      "metadata": {
        "colab": {
          "base_uri": "https://localhost:8080/"
        },
        "id": "9J2S_J9vtNRf",
        "outputId": "77e91f6e-837f-4a57-b377-a15f65377d49"
      },
      "source": [
        "#These are independent events  so \n",
        "P=0.7*0.5\n",
        "print(\"Probability that they will be alive after 20 years is\",P)"
      ],
      "execution_count": null,
      "outputs": [
        {
          "output_type": "stream",
          "name": "stdout",
          "text": [
            "Probability that they will be alive after 20 years is 0.35\n"
          ]
        }
      ]
    },
    {
      "cell_type": "code",
      "metadata": {
        "colab": {
          "base_uri": "https://localhost:8080/"
        },
        "id": "kEPfUs82tP6X",
        "outputId": "c1b043aa-e741-48f6-b20c-13a6152c6007"
      },
      "source": [
        "def probability(number_of_events,samplespace):\n",
        "  return number_of_events/samplespace\n",
        "pa=probability(2,6)\n",
        "pb=probability(3,6)\n",
        "P=pa*pb\n",
        "print(\"Probability of getting a 4 or 5 on the first toss and 1, 2 or 3 on second toss is\", P)"
      ],
      "execution_count": null,
      "outputs": [
        {
          "output_type": "stream",
          "name": "stdout",
          "text": [
            "Probability of getting a 4 or 5 on the first toss and 1, 2 or 3 on second toss is 0.16666666666666666\n"
          ]
        }
      ]
    },
    {
      "cell_type": "code",
      "metadata": {
        "colab": {
          "base_uri": "https://localhost:8080/"
        },
        "id": "oh-i2T4mtgw4",
        "outputId": "8fffe35d-6562-4d2c-aa80-5544c01cf599"
      },
      "source": [
        "pa=probability(5,10)\n",
        "pb=probability(3,9)\n",
        "pc=probability(2,8)\n",
        "P=pa*pb*pc\n",
        "print('The probability of obtaining white, black and green in the order is ',P)\n"
      ],
      "execution_count": null,
      "outputs": [
        {
          "output_type": "stream",
          "name": "stdout",
          "text": [
            "The probability of obtaining white, black and green in the order is  0.041666666666666664\n"
          ]
        }
      ]
    },
    {
      "cell_type": "code",
      "metadata": {
        "colab": {
          "base_uri": "https://localhost:8080/"
        },
        "id": "QGQlt1iGti-o",
        "outputId": "fc833e8b-43b1-4e23-9003-4fa797510a1e"
      },
      "source": [
        "cards=52\n",
        "hearts=13\n",
        "clubs=13\n",
        "heart_or_club=probability(13,52)+probability(13,52)\n",
        "print('Probability fo drawing heart or club in a deck of 52 cards is',heart_or_club)"
      ],
      "execution_count": null,
      "outputs": [
        {
          "output_type": "stream",
          "name": "stdout",
          "text": [
            "Probability fo drawing heart or club in a deck of 52 cards is 0.5\n"
          ]
        }
      ]
    },
    {
      "cell_type": "code",
      "metadata": {
        "colab": {
          "base_uri": "https://localhost:8080/"
        },
        "id": "Bpkgk7Rptk9g",
        "outputId": "33bb348a-d2e4-4af0-9513-2b939b93fc1d"
      },
      "source": [
        "cards=52\n",
        "ace=4\n",
        "king=4\n",
        "queen=4\n",
        "akq=probability(4,52)+probability(4,52)+probability(4,52)\n",
        "print(\"Probability of drawing ace, king or queen cards from deck is \",akq)"
      ],
      "execution_count": null,
      "outputs": [
        {
          "output_type": "stream",
          "name": "stdout",
          "text": [
            "Probability of drawing ace, king or queen cards from deck is  0.23076923076923078\n"
          ]
        }
      ]
    },
    {
      "cell_type": "code",
      "metadata": {
        "colab": {
          "base_uri": "https://localhost:8080/"
        },
        "id": "gWiFI3pztmsw",
        "outputId": "54d5e07d-eaa1-48e8-8b3d-5b4afae6eda8"
      },
      "source": [
        "'''Probability of getting heart or ace '''\n",
        "heart=13\n",
        "ace=4\n",
        "ace_of_hearts=1\n",
        "ha=probability(13,52)+probability(ace,52)-probability(ace_of_hearts,cards) # Additive rule\n",
        "print(ha)"
      ],
      "execution_count": null,
      "outputs": [
        {
          "output_type": "stream",
          "name": "stdout",
          "text": [
            "0.3076923076923077\n"
          ]
        }
      ]
    },
    {
      "cell_type": "code",
      "metadata": {
        "colab": {
          "base_uri": "https://localhost:8080/"
        },
        "id": "4ZKA6zr6topJ",
        "outputId": "b2307c20-3c46-4548-fbbc-71ea0cdff450"
      },
      "source": [
        "'''Probability of not getting 5 when a fair die is rolled'''\n",
        "ns=6 #n(s)= {1,2,3,4,5,6}\n",
        "na=1 #n(a)={5}\n",
        "pa=na/ns \n",
        "print('probability of not getting 5 is ', 1-pa)"
      ],
      "execution_count": null,
      "outputs": [
        {
          "output_type": "stream",
          "name": "stdout",
          "text": [
            "probability of not getting 5 is  0.8333333333333334\n"
          ]
        }
      ]
    },
    {
      "cell_type": "code",
      "metadata": {
        "colab": {
          "base_uri": "https://localhost:8080/",
          "height": 163
        },
        "id": "cE2ISUz_tq44",
        "outputId": "55459cb4-48d7-484a-9cff-cb971666a598"
      },
      "source": [
        "#Conditional probability\n",
        "''''''\n",
        "import pandas as pd\n",
        "import numpy as np\n",
        "df=pd.read_csv('student-mat.csv') #Student-mat.csv file \n",
        "df.head(3)"
      ],
      "execution_count": null,
      "outputs": [
        {
          "output_type": "execute_result",
          "data": {
            "text/html": [
              "<div>\n",
              "<style scoped>\n",
              "    .dataframe tbody tr th:only-of-type {\n",
              "        vertical-align: middle;\n",
              "    }\n",
              "\n",
              "    .dataframe tbody tr th {\n",
              "        vertical-align: top;\n",
              "    }\n",
              "\n",
              "    .dataframe thead th {\n",
              "        text-align: right;\n",
              "    }\n",
              "</style>\n",
              "<table border=\"1\" class=\"dataframe\">\n",
              "  <thead>\n",
              "    <tr style=\"text-align: right;\">\n",
              "      <th></th>\n",
              "      <th>school</th>\n",
              "      <th>sex</th>\n",
              "      <th>age</th>\n",
              "      <th>address</th>\n",
              "      <th>famsize</th>\n",
              "      <th>Pstatus</th>\n",
              "      <th>Medu</th>\n",
              "      <th>Fedu</th>\n",
              "      <th>Mjob</th>\n",
              "      <th>Fjob</th>\n",
              "      <th>reason</th>\n",
              "      <th>guardian</th>\n",
              "      <th>traveltime</th>\n",
              "      <th>studytime</th>\n",
              "      <th>failures</th>\n",
              "      <th>schoolsup</th>\n",
              "      <th>famsup</th>\n",
              "      <th>paid</th>\n",
              "      <th>activities</th>\n",
              "      <th>nursery</th>\n",
              "      <th>higher</th>\n",
              "      <th>internet</th>\n",
              "      <th>romantic</th>\n",
              "      <th>famrel</th>\n",
              "      <th>freetime</th>\n",
              "      <th>goout</th>\n",
              "      <th>Dalc</th>\n",
              "      <th>Walc</th>\n",
              "      <th>health</th>\n",
              "      <th>absences</th>\n",
              "      <th>G1</th>\n",
              "      <th>G2</th>\n",
              "      <th>G3</th>\n",
              "    </tr>\n",
              "  </thead>\n",
              "  <tbody>\n",
              "    <tr>\n",
              "      <th>0</th>\n",
              "      <td>GP</td>\n",
              "      <td>F</td>\n",
              "      <td>18</td>\n",
              "      <td>U</td>\n",
              "      <td>GT3</td>\n",
              "      <td>A</td>\n",
              "      <td>4</td>\n",
              "      <td>4</td>\n",
              "      <td>at_home</td>\n",
              "      <td>teacher</td>\n",
              "      <td>course</td>\n",
              "      <td>mother</td>\n",
              "      <td>2</td>\n",
              "      <td>2</td>\n",
              "      <td>0</td>\n",
              "      <td>yes</td>\n",
              "      <td>no</td>\n",
              "      <td>no</td>\n",
              "      <td>no</td>\n",
              "      <td>yes</td>\n",
              "      <td>yes</td>\n",
              "      <td>no</td>\n",
              "      <td>no</td>\n",
              "      <td>4</td>\n",
              "      <td>3</td>\n",
              "      <td>4</td>\n",
              "      <td>1</td>\n",
              "      <td>1</td>\n",
              "      <td>3</td>\n",
              "      <td>6</td>\n",
              "      <td>5</td>\n",
              "      <td>6</td>\n",
              "      <td>6</td>\n",
              "    </tr>\n",
              "    <tr>\n",
              "      <th>1</th>\n",
              "      <td>GP</td>\n",
              "      <td>F</td>\n",
              "      <td>17</td>\n",
              "      <td>U</td>\n",
              "      <td>GT3</td>\n",
              "      <td>T</td>\n",
              "      <td>1</td>\n",
              "      <td>1</td>\n",
              "      <td>at_home</td>\n",
              "      <td>other</td>\n",
              "      <td>course</td>\n",
              "      <td>father</td>\n",
              "      <td>1</td>\n",
              "      <td>2</td>\n",
              "      <td>0</td>\n",
              "      <td>no</td>\n",
              "      <td>yes</td>\n",
              "      <td>no</td>\n",
              "      <td>no</td>\n",
              "      <td>no</td>\n",
              "      <td>yes</td>\n",
              "      <td>yes</td>\n",
              "      <td>no</td>\n",
              "      <td>5</td>\n",
              "      <td>3</td>\n",
              "      <td>3</td>\n",
              "      <td>1</td>\n",
              "      <td>1</td>\n",
              "      <td>3</td>\n",
              "      <td>4</td>\n",
              "      <td>5</td>\n",
              "      <td>5</td>\n",
              "      <td>6</td>\n",
              "    </tr>\n",
              "    <tr>\n",
              "      <th>2</th>\n",
              "      <td>GP</td>\n",
              "      <td>F</td>\n",
              "      <td>15</td>\n",
              "      <td>U</td>\n",
              "      <td>LE3</td>\n",
              "      <td>T</td>\n",
              "      <td>1</td>\n",
              "      <td>1</td>\n",
              "      <td>at_home</td>\n",
              "      <td>other</td>\n",
              "      <td>other</td>\n",
              "      <td>mother</td>\n",
              "      <td>1</td>\n",
              "      <td>2</td>\n",
              "      <td>3</td>\n",
              "      <td>yes</td>\n",
              "      <td>no</td>\n",
              "      <td>yes</td>\n",
              "      <td>no</td>\n",
              "      <td>yes</td>\n",
              "      <td>yes</td>\n",
              "      <td>yes</td>\n",
              "      <td>no</td>\n",
              "      <td>4</td>\n",
              "      <td>3</td>\n",
              "      <td>2</td>\n",
              "      <td>2</td>\n",
              "      <td>3</td>\n",
              "      <td>3</td>\n",
              "      <td>10</td>\n",
              "      <td>7</td>\n",
              "      <td>8</td>\n",
              "      <td>10</td>\n",
              "    </tr>\n",
              "  </tbody>\n",
              "</table>\n",
              "</div>"
            ],
            "text/plain": [
              "  school sex  age address famsize Pstatus  ...  Walc  health absences G1 G2  G3\n",
              "0     GP   F   18       U     GT3       A  ...     1       3        6  5  6   6\n",
              "1     GP   F   17       U     GT3       T  ...     1       3        4  5  5   6\n",
              "2     GP   F   15       U     LE3       T  ...     3       3       10  7  8  10\n",
              "\n",
              "[3 rows x 33 columns]"
            ]
          },
          "metadata": {},
          "execution_count": 14
        }
      ]
    },
    {
      "cell_type": "code",
      "metadata": {
        "colab": {
          "base_uri": "https://localhost:8080/"
        },
        "id": "Fto3P5wvtxTP",
        "outputId": "39d3c3d2-03ae-43d2-ac8f-4b4281d011ea"
      },
      "source": [
        "len(df)"
      ],
      "execution_count": null,
      "outputs": [
        {
          "output_type": "execute_result",
          "data": {
            "text/plain": [
              "395"
            ]
          },
          "metadata": {},
          "execution_count": 15
        }
      ]
    },
    {
      "cell_type": "code",
      "metadata": {
        "id": "Bbt_QDW0tzMv"
      },
      "source": [
        "df['grade_A']=np.where(df['G3']*5 >= 80 , 1, 0)"
      ],
      "execution_count": null,
      "outputs": []
    },
    {
      "cell_type": "markdown",
      "metadata": {
        "id": "vmc2Pn9pt_He"
      },
      "source": [
        "If Student is absent more then 10 or more classes then they should be in the high_absences list."
      ]
    },
    {
      "cell_type": "code",
      "metadata": {
        "id": "0fFbcEirt07g"
      },
      "source": [
        "df['high_absences']=np.where(df['absences']>=10,1,0)"
      ],
      "execution_count": null,
      "outputs": []
    },
    {
      "cell_type": "markdown",
      "metadata": {
        "id": "iwS_wMk4uF60"
      },
      "source": [
        "Add one more column to make building a pivot table easier"
      ]
    },
    {
      "cell_type": "code",
      "metadata": {
        "id": "ceuDkLVYuIwR"
      },
      "source": [
        "df['count']=1"
      ],
      "execution_count": null,
      "outputs": []
    },
    {
      "cell_type": "markdown",
      "metadata": {
        "id": "lBJle6T9uK2f"
      },
      "source": [
        "Drop all other columns and just display new added 3 columns"
      ]
    },
    {
      "cell_type": "code",
      "metadata": {
        "colab": {
          "base_uri": "https://localhost:8080/",
          "height": 206
        },
        "id": "rAj5sRm7uMqg",
        "outputId": "3fdd5cf3-e508-41e9-85fb-836d40464beb"
      },
      "source": [
        "df=df[['grade_A','high_absences','count']]\n",
        "df.head()"
      ],
      "execution_count": null,
      "outputs": [
        {
          "output_type": "execute_result",
          "data": {
            "text/html": [
              "<div>\n",
              "<style scoped>\n",
              "    .dataframe tbody tr th:only-of-type {\n",
              "        vertical-align: middle;\n",
              "    }\n",
              "\n",
              "    .dataframe tbody tr th {\n",
              "        vertical-align: top;\n",
              "    }\n",
              "\n",
              "    .dataframe thead th {\n",
              "        text-align: right;\n",
              "    }\n",
              "</style>\n",
              "<table border=\"1\" class=\"dataframe\">\n",
              "  <thead>\n",
              "    <tr style=\"text-align: right;\">\n",
              "      <th></th>\n",
              "      <th>grade_A</th>\n",
              "      <th>high_absences</th>\n",
              "      <th>count</th>\n",
              "    </tr>\n",
              "  </thead>\n",
              "  <tbody>\n",
              "    <tr>\n",
              "      <th>0</th>\n",
              "      <td>0</td>\n",
              "      <td>0</td>\n",
              "      <td>1</td>\n",
              "    </tr>\n",
              "    <tr>\n",
              "      <th>1</th>\n",
              "      <td>0</td>\n",
              "      <td>0</td>\n",
              "      <td>1</td>\n",
              "    </tr>\n",
              "    <tr>\n",
              "      <th>2</th>\n",
              "      <td>0</td>\n",
              "      <td>1</td>\n",
              "      <td>1</td>\n",
              "    </tr>\n",
              "    <tr>\n",
              "      <th>3</th>\n",
              "      <td>0</td>\n",
              "      <td>0</td>\n",
              "      <td>1</td>\n",
              "    </tr>\n",
              "    <tr>\n",
              "      <th>4</th>\n",
              "      <td>0</td>\n",
              "      <td>0</td>\n",
              "      <td>1</td>\n",
              "    </tr>\n",
              "  </tbody>\n",
              "</table>\n",
              "</div>"
            ],
            "text/plain": [
              "   grade_A  high_absences  count\n",
              "0        0              0      1\n",
              "1        0              0      1\n",
              "2        0              1      1\n",
              "3        0              0      1\n",
              "4        0              0      1"
            ]
          },
          "metadata": {},
          "execution_count": 20
        }
      ]
    },
    {
      "cell_type": "code",
      "metadata": {
        "id": "YGX9RrP3uPsR"
      },
      "source": [
        "final=pd.pivot_table(df,values='count',index=['grade_A'],columns=['high_absences'],\n",
        "                     aggfunc=np.size,fill_value=0)"
      ],
      "execution_count": null,
      "outputs": []
    },
    {
      "cell_type": "code",
      "metadata": {
        "colab": {
          "base_uri": "https://localhost:8080/"
        },
        "id": "iLjHyOEXuRIQ",
        "outputId": "363d9554-05a5-4edb-bb11-001c67402bb7"
      },
      "source": [
        "print(final)\n"
      ],
      "execution_count": null,
      "outputs": [
        {
          "output_type": "stream",
          "name": "stdout",
          "text": [
            "high_absences    0   1\n",
            "grade_A               \n",
            "0              277  78\n",
            "1               35   5\n"
          ]
        }
      ]
    },
    {
      "cell_type": "code",
      "metadata": {
        "colab": {
          "base_uri": "https://localhost:8080/"
        },
        "id": "HR6oPvN1uTQR",
        "outputId": "5336c720-6072-4953-a644-ea0b01059b85"
      },
      "source": [
        "#  probability of a grade of 80% or greater\n",
        "\n",
        "Pa = (35 + 5) / (35 + 5 + 277 + 78)\n",
        "print(Pa)"
      ],
      "execution_count": null,
      "outputs": [
        {
          "output_type": "stream",
          "name": "stdout",
          "text": [
            "0.10126582278481013\n"
          ]
        }
      ]
    },
    {
      "cell_type": "code",
      "metadata": {
        "colab": {
          "base_uri": "https://localhost:8080/"
        },
        "id": "YJKeiLMuuU9g",
        "outputId": "5615405b-5472-40b0-890a-ed124303a310"
      },
      "source": [
        "Pb = (78 + 5) / (35 + 5 + 277 + 78)\n",
        "print(Pb)"
      ],
      "execution_count": null,
      "outputs": [
        {
          "output_type": "stream",
          "name": "stdout",
          "text": [
            "0.21012658227848102\n"
          ]
        }
      ]
    },
    {
      "cell_type": "code",
      "metadata": {
        "colab": {
          "base_uri": "https://localhost:8080/"
        },
        "id": "cWKHF4T4uWgx",
        "outputId": "967c4e96-e328-42f7-8ec6-5f300556fcdd"
      },
      "source": [
        "PaAndb = 5 / (35 + 5 + 277 + 78)\n",
        "print(PaAndb)"
      ],
      "execution_count": null,
      "outputs": [
        {
          "output_type": "stream",
          "name": "stdout",
          "text": [
            "0.012658227848101266\n"
          ]
        }
      ]
    },
    {
      "cell_type": "code",
      "metadata": {
        "colab": {
          "base_uri": "https://localhost:8080/"
        },
        "id": "o9lfMTz0uYMZ",
        "outputId": "00ed67fa-e761-4315-9cc9-5f7d385a2d8c"
      },
      "source": [
        "print(PaAndb / Pb)"
      ],
      "execution_count": null,
      "outputs": [
        {
          "output_type": "stream",
          "name": "stdout",
          "text": [
            "0.060240963855421686\n"
          ]
        }
      ]
    }
  ]
}