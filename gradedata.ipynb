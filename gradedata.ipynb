{
  "nbformat": 4,
  "nbformat_minor": 0,
  "metadata": {
    "colab": {
      "name": "gradedata.ipynb",
      "provenance": [],
      "authorship_tag": "ABX9TyOSZhfavAn9fLU/ur/6IqGP",
      "include_colab_link": true
    },
    "kernelspec": {
      "name": "python3",
      "display_name": "Python 3"
    },
    "language_info": {
      "name": "python"
    }
  },
  "cells": [
    {
      "cell_type": "markdown",
      "metadata": {
        "id": "view-in-github",
        "colab_type": "text"
      },
      "source": [
        "<a href=\"https://colab.research.google.com/github/jigsaw2708/FDS-practical/blob/main/gradedata.ipynb\" target=\"_parent\"><img src=\"https://colab.research.google.com/assets/colab-badge.svg\" alt=\"Open In Colab\"/></a>"
      ]
    },
    {
      "cell_type": "code",
      "metadata": {
        "colab": {
          "base_uri": "https://localhost:8080/"
        },
        "id": "10EEtA1tskOu",
        "outputId": "20efa2f0-6104-4aec-9b1d-6835b6340a78"
      },
      "source": [
        "import pandas\n",
        "import numpy\n",
        "import openpyxl\n",
        "dt = pandas.read_excel('gradedata.xlsx')\n",
        "print(dt)"
      ],
      "execution_count": 2,
      "outputs": [
        {
          "output_type": "stream",
          "name": "stdout",
          "text": [
            "          fname  ...                                           address\n",
            "0        Marcia  ...              7379 Highland Rd. , Dublin, GA 31021\n",
            "1        Kadeem  ...                8 Bayport St. , Honolulu, HI 96815\n",
            "2          Nash  ...                 Encino, CA 91316, 3 Lilac Street \n",
            "3       Noelani  ...        Riverview, FL 33569, 9998 North Smith Dr. \n",
            "4       Noelani  ...         97 SE. Ocean Street , Bethlehem, PA 18015\n",
            "...         ...  ...                                               ...\n",
            "1995       Cody  ...              8567 Walnut Street , Piqua, OH 45356\n",
            "1996  Geraldine  ...                  Lynn, MA 01902, 66 Bridge Drive \n",
            "1997   Mercedes  ...       Loxahatchee, FL 33470, 8887 NE. Sugar Road \n",
            "1998     Lucius  ...  8734 South Birch Hill Drive , Canfield, OH 44406\n",
            "1999      Linus  ...            21 Glen Ridge St. , Highland, IN 46322\n",
            "\n",
            "[2000 rows x 8 columns]\n"
          ]
        }
      ]
    }
  ]
}