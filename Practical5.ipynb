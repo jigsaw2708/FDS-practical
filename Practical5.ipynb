{
  "nbformat": 4,
  "nbformat_minor": 0,
  "metadata": {
    "colab": {
      "name": "Practical5.ipynb",
      "provenance": [],
      "authorship_tag": "ABX9TyMD/xGeaZaT5gKV2sUIESkX",
      "include_colab_link": true
    },
    "kernelspec": {
      "name": "python3",
      "display_name": "Python 3"
    },
    "language_info": {
      "name": "python"
    }
  },
  "cells": [
    {
      "cell_type": "markdown",
      "metadata": {
        "id": "view-in-github",
        "colab_type": "text"
      },
      "source": [
        "<a href=\"https://colab.research.google.com/github/jigsaw2708/FDS-practical/blob/main/Practical5.ipynb\" target=\"_parent\"><img src=\"https://colab.research.google.com/assets/colab-badge.svg\" alt=\"Open In Colab\"/></a>"
      ]
    },
    {
      "cell_type": "code",
      "metadata": {
        "colab": {
          "base_uri": "https://localhost:8080/"
        },
        "id": "XI_Ho9pCudZH",
        "outputId": "8d97e89f-06ef-4595-f1ae-b6ce8c29c6db"
      },
      "source": [
        "#CONTINUOUS DISTRIBUTION\n",
        "%matplotlib inline\n",
        "import matplotlib.pyplot as plt\n",
        "from IPython.display import Math , Latex\n",
        "from IPython.core.display import Image\n",
        "import numpy as np\n",
        "import seaborn as sms\n",
        "from scipy.stats import uniform\n",
        "print('all are imported')"
      ],
      "execution_count": 1,
      "outputs": [
        {
          "output_type": "stream",
          "name": "stdout",
          "text": [
            "all are imported\n"
          ]
        }
      ]
    },
    {
      "cell_type": "code",
      "metadata": {
        "colab": {
          "base_uri": "https://localhost:8080/",
          "height": 351
        },
        "id": "HbY4dA1cuqLN",
        "outputId": "88ff13b7-6db5-45e1-e58d-a4143d5181f7"
      },
      "source": [
        "n=10000\n",
        "start=10\n",
        "width=20\n",
        "data_uniform=uniform.rvs(size=n,loc=start,scale=width)\n",
        "ax=sms.distplot(data_uniform,bins=30,kde=True,color='skyblue',\n",
        "               hist_kws={'linewidth':15,'alpha':1})\n",
        "ax.set(xlabel='Uniform Distribution',ylabel='Frequency')"
      ],
      "execution_count": 2,
      "outputs": [
        {
          "output_type": "stream",
          "name": "stderr",
          "text": [
            "/usr/local/lib/python3.7/dist-packages/seaborn/distributions.py:2619: FutureWarning: `distplot` is a deprecated function and will be removed in a future version. Please adapt your code to use either `displot` (a figure-level function with similar flexibility) or `histplot` (an axes-level function for histograms).\n",
            "  warnings.warn(msg, FutureWarning)\n"
          ]
        },
        {
          "output_type": "execute_result",
          "data": {
            "text/plain": [
              "[Text(0, 0.5, 'Frequency'), Text(0.5, 0, 'Uniform Distribution')]"
            ]
          },
          "metadata": {},
          "execution_count": 2
        },
        {
          "output_type": "display_data",
          "data": {
            "image/png": "[encoded data removed]",
            "text/plain": [
              "<Figure size 432x288 with 1 Axes>"
            ]
          },
          "metadata": {
            "needs_background": "light"
          }
        }
      ]
    },
    {
      "cell_type": "code",
      "metadata": {
        "id": "-S5j9IOnusrG"
      },
      "source": [
        "#Normal Distribution\n",
        "from scipy.stats import norm\n",
        "data_normal=norm.rvs(size=10000,loc=0,scale=1)"
      ],
      "execution_count": 3,
      "outputs": []
    },
    {
      "cell_type": "code",
      "metadata": {
        "colab": {
          "base_uri": "https://localhost:8080/",
          "height": 351
        },
        "id": "7YYArbCjuxkk",
        "outputId": "542a4729-3d67-4388-da5a-c952c3432a6c"
      },
      "source": [
        "ax=sms.distplot(data_normal,bins=100,kde=True,color='skyblue',\n",
        "               hist_kws={'linewidth':15,'alpha':1})\n",
        "ax.set(xlabel='Normal Distribution',ylabel='Frequency')"
      ],
      "execution_count": 4,
      "outputs": [
        {
          "output_type": "stream",
          "name": "stderr",
          "text": [
            "/usr/local/lib/python3.7/dist-packages/seaborn/distributions.py:2619: FutureWarning: `distplot` is a deprecated function and will be removed in a future version. Please adapt your code to use either `displot` (a figure-level function with similar flexibility) or `histplot` (an axes-level function for histograms).\n",
            "  warnings.warn(msg, FutureWarning)\n"
          ]
        },
        {
          "output_type": "execute_result",
          "data": {
            "text/plain": [
              "[Text(0, 0.5, 'Frequency'), Text(0.5, 0, 'Normal Distribution')]"
            ]
          },
          "metadata": {},
          "execution_count": 4
        },
        {
          "output_type": "display_data",
          "data": {
            "image/png": "[encoded data removed]",
            "text/plain": [
              "<Figure size 432x288 with 1 Axes>"
            ]
          },
          "metadata": {
            "needs_background": "light"
          }
        }
      ]
    }
  ]
}