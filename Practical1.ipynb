{
  "nbformat": 4,
  "nbformat_minor": 0,
  "metadata": {
    "colab": {
      "name": "Practical1.ipynb",
      "provenance": [],
      "authorship_tag": "ABX9TyOSvS7vfycnjuIeeDEVnqqG",
      "include_colab_link": true
    },
    "kernelspec": {
      "name": "python3",
      "display_name": "Python 3"
    },
    "language_info": {
      "name": "python"
    }
  },
  "cells": [
    {
      "cell_type": "markdown",
      "metadata": {
        "id": "view-in-github",
        "colab_type": "text"
      },
      "source": [
        "<a href=\"https://colab.research.google.com/github/jigsaw2708/FDS-practical/blob/main/Practical1.ipynb\" target=\"_parent\"><img src=\"https://colab.research.google.com/assets/colab-badge.svg\" alt=\"Open In Colab\"/></a>"
      ]
    },
    {
      "cell_type": "code",
      "metadata": {
        "colab": {
          "base_uri": "https://localhost:8080/"
        },
        "id": "7OWy8XVBX8F-",
        "outputId": "e065249c-e613-417a-dbb6-2f4a013b97ba"
      },
      "source": [
        "pip install Xlsxwriter"
      ],
      "execution_count": 1,
      "outputs": [
        {
          "output_type": "stream",
          "name": "stdout",
          "text": [
            "Collecting Xlsxwriter\n",
            "  Downloading XlsxWriter-3.0.2-py3-none-any.whl (149 kB)\n",
            "\u001b[?25l\r\u001b[K     |██▏                             | 10 kB 23.4 MB/s eta 0:00:01\r\u001b[K     |████▍                           | 20 kB 8.7 MB/s eta 0:00:01\r\u001b[K     |██████▋                         | 30 kB 7.6 MB/s eta 0:00:01\r\u001b[K     |████████▊                       | 40 kB 7.0 MB/s eta 0:00:01\r\u001b[K     |███████████                     | 51 kB 4.1 MB/s eta 0:00:01\r\u001b[K     |█████████████▏                  | 61 kB 4.3 MB/s eta 0:00:01\r\u001b[K     |███████████████▎                | 71 kB 4.3 MB/s eta 0:00:01\r\u001b[K     |█████████████████▌              | 81 kB 4.9 MB/s eta 0:00:01\r\u001b[K     |███████████████████▊            | 92 kB 5.0 MB/s eta 0:00:01\r\u001b[K     |█████████████████████▉          | 102 kB 4.0 MB/s eta 0:00:01\r\u001b[K     |████████████████████████        | 112 kB 4.0 MB/s eta 0:00:01\r\u001b[K     |██████████████████████████▎     | 122 kB 4.0 MB/s eta 0:00:01\r\u001b[K     |████████████████████████████▍   | 133 kB 4.0 MB/s eta 0:00:01\r\u001b[K     |██████████████████████████████▋ | 143 kB 4.0 MB/s eta 0:00:01\r\u001b[K     |████████████████████████████████| 149 kB 4.0 MB/s \n",
            "\u001b[?25hInstalling collected packages: Xlsxwriter\n",
            "Successfully installed Xlsxwriter-3.0.2\n"
          ]
        }
      ]
    },
    {
      "cell_type": "code",
      "source": [
        "import pandas as pd\n",
        "import numpy as np\n",
        "from xlsxwriter import Workbook\n",
        "mydict = {\"name\": [\"a\", \"b\", \"c\", \"d\", \"e\", \"f\", \"g\"],\n",
        "          \"age\": [20, 22, 21, 19, 24, 18, 17],\n",
        "          \"designation\": [\"VP\", \"CEO\", \"CFO\", \"VP\", \"VP\", \"CEO\", \"CFO\"]}\n"
      ],
      "metadata": {
        "id": "zq6K3CRLqfYL"
      },
      "execution_count": 7,
      "outputs": []
    },
    {
      "cell_type": "code",
      "source": [
        "df =pd.DataFrame(mydict)\n",
        "df"
      ],
      "metadata": {
        "colab": {
          "base_uri": "https://localhost:8080/",
          "height": 269
        },
        "id": "3IgN6c9tqrJ-",
        "outputId": "87550b82-4b6b-40e5-ee43-fad1c93abf94"
      },
      "execution_count": 9,
      "outputs": [
        {
          "output_type": "execute_result",
          "data": {
            "text/html": [
              "<div>\n",
              "<style scoped>\n",
              "    .dataframe tbody tr th:only-of-type {\n",
              "        vertical-align: middle;\n",
              "    }\n",
              "\n",
              "    .dataframe tbody tr th {\n",
              "        vertical-align: top;\n",
              "    }\n",
              "\n",
              "    .dataframe thead th {\n",
              "        text-align: right;\n",
              "    }\n",
              "</style>\n",
              "<table border=\"1\" class=\"dataframe\">\n",
              "  <thead>\n",
              "    <tr style=\"text-align: right;\">\n",
              "      <th></th>\n",
              "      <th>name</th>\n",
              "      <th>age</th>\n",
              "      <th>designation</th>\n",
              "    </tr>\n",
              "  </thead>\n",
              "  <tbody>\n",
              "    <tr>\n",
              "      <th>0</th>\n",
              "      <td>a</td>\n",
              "      <td>20</td>\n",
              "      <td>VP</td>\n",
              "    </tr>\n",
              "    <tr>\n",
              "      <th>1</th>\n",
              "      <td>b</td>\n",
              "      <td>22</td>\n",
              "      <td>CEO</td>\n",
              "    </tr>\n",
              "    <tr>\n",
              "      <th>2</th>\n",
              "      <td>c</td>\n",
              "      <td>21</td>\n",
              "      <td>CFO</td>\n",
              "    </tr>\n",
              "    <tr>\n",
              "      <th>3</th>\n",
              "      <td>d</td>\n",
              "      <td>19</td>\n",
              "      <td>VP</td>\n",
              "    </tr>\n",
              "    <tr>\n",
              "      <th>4</th>\n",
              "      <td>e</td>\n",
              "      <td>24</td>\n",
              "      <td>VP</td>\n",
              "    </tr>\n",
              "    <tr>\n",
              "      <th>5</th>\n",
              "      <td>f</td>\n",
              "      <td>18</td>\n",
              "      <td>CEO</td>\n",
              "    </tr>\n",
              "    <tr>\n",
              "      <th>6</th>\n",
              "      <td>g</td>\n",
              "      <td>17</td>\n",
              "      <td>CFO</td>\n",
              "    </tr>\n",
              "  </tbody>\n",
              "</table>\n",
              "</div>"
            ],
            "text/plain": [
              "  name  age designation\n",
              "0    a   20          VP\n",
              "1    b   22         CEO\n",
              "2    c   21         CFO\n",
              "3    d   19          VP\n",
              "4    e   24          VP\n",
              "5    f   18         CEO\n",
              "6    g   17         CFO"
            ]
          },
          "metadata": {},
          "execution_count": 9
        }
      ]
    },
    {
      "cell_type": "code",
      "source": [
        "df.to_csv('csv_file')\n",
        "df"
      ],
      "metadata": {
        "colab": {
          "base_uri": "https://localhost:8080/",
          "height": 269
        },
        "id": "cAz9Trxgq63k",
        "outputId": "7c6cf9cf-f298-4af4-d98a-f89e55f13544"
      },
      "execution_count": 10,
      "outputs": [
        {
          "output_type": "execute_result",
          "data": {
            "text/html": [
              "<div>\n",
              "<style scoped>\n",
              "    .dataframe tbody tr th:only-of-type {\n",
              "        vertical-align: middle;\n",
              "    }\n",
              "\n",
              "    .dataframe tbody tr th {\n",
              "        vertical-align: top;\n",
              "    }\n",
              "\n",
              "    .dataframe thead th {\n",
              "        text-align: right;\n",
              "    }\n",
              "</style>\n",
              "<table border=\"1\" class=\"dataframe\">\n",
              "  <thead>\n",
              "    <tr style=\"text-align: right;\">\n",
              "      <th></th>\n",
              "      <th>name</th>\n",
              "      <th>age</th>\n",
              "      <th>designation</th>\n",
              "    </tr>\n",
              "  </thead>\n",
              "  <tbody>\n",
              "    <tr>\n",
              "      <th>0</th>\n",
              "      <td>a</td>\n",
              "      <td>20</td>\n",
              "      <td>VP</td>\n",
              "    </tr>\n",
              "    <tr>\n",
              "      <th>1</th>\n",
              "      <td>b</td>\n",
              "      <td>22</td>\n",
              "      <td>CEO</td>\n",
              "    </tr>\n",
              "    <tr>\n",
              "      <th>2</th>\n",
              "      <td>c</td>\n",
              "      <td>21</td>\n",
              "      <td>CFO</td>\n",
              "    </tr>\n",
              "    <tr>\n",
              "      <th>3</th>\n",
              "      <td>d</td>\n",
              "      <td>19</td>\n",
              "      <td>VP</td>\n",
              "    </tr>\n",
              "    <tr>\n",
              "      <th>4</th>\n",
              "      <td>e</td>\n",
              "      <td>24</td>\n",
              "      <td>VP</td>\n",
              "    </tr>\n",
              "    <tr>\n",
              "      <th>5</th>\n",
              "      <td>f</td>\n",
              "      <td>18</td>\n",
              "      <td>CEO</td>\n",
              "    </tr>\n",
              "    <tr>\n",
              "      <th>6</th>\n",
              "      <td>g</td>\n",
              "      <td>17</td>\n",
              "      <td>CFO</td>\n",
              "    </tr>\n",
              "  </tbody>\n",
              "</table>\n",
              "</div>"
            ],
            "text/plain": [
              "  name  age designation\n",
              "0    a   20          VP\n",
              "1    b   22         CEO\n",
              "2    c   21         CFO\n",
              "3    d   19          VP\n",
              "4    e   24          VP\n",
              "5    f   18         CEO\n",
              "6    g   17         CFO"
            ]
          },
          "metadata": {},
          "execution_count": 10
        }
      ]
    },
    {
      "cell_type": "code",
      "source": [
        "df_csv = pd.read_csv('csv_file')\n",
        "df_csv"
      ],
      "metadata": {
        "colab": {
          "base_uri": "https://localhost:8080/",
          "height": 269
        },
        "id": "E63ztuOCq7pm",
        "outputId": "5cc5c9cb-7fbc-428c-9bda-cf90176bb852"
      },
      "execution_count": 11,
      "outputs": [
        {
          "output_type": "execute_result",
          "data": {
            "text/html": [
              "<div>\n",
              "<style scoped>\n",
              "    .dataframe tbody tr th:only-of-type {\n",
              "        vertical-align: middle;\n",
              "    }\n",
              "\n",
              "    .dataframe tbody tr th {\n",
              "        vertical-align: top;\n",
              "    }\n",
              "\n",
              "    .dataframe thead th {\n",
              "        text-align: right;\n",
              "    }\n",
              "</style>\n",
              "<table border=\"1\" class=\"dataframe\">\n",
              "  <thead>\n",
              "    <tr style=\"text-align: right;\">\n",
              "      <th></th>\n",
              "      <th>Unnamed: 0</th>\n",
              "      <th>name</th>\n",
              "      <th>age</th>\n",
              "      <th>designation</th>\n",
              "    </tr>\n",
              "  </thead>\n",
              "  <tbody>\n",
              "    <tr>\n",
              "      <th>0</th>\n",
              "      <td>0</td>\n",
              "      <td>a</td>\n",
              "      <td>20</td>\n",
              "      <td>VP</td>\n",
              "    </tr>\n",
              "    <tr>\n",
              "      <th>1</th>\n",
              "      <td>1</td>\n",
              "      <td>b</td>\n",
              "      <td>22</td>\n",
              "      <td>CEO</td>\n",
              "    </tr>\n",
              "    <tr>\n",
              "      <th>2</th>\n",
              "      <td>2</td>\n",
              "      <td>c</td>\n",
              "      <td>21</td>\n",
              "      <td>CFO</td>\n",
              "    </tr>\n",
              "    <tr>\n",
              "      <th>3</th>\n",
              "      <td>3</td>\n",
              "      <td>d</td>\n",
              "      <td>19</td>\n",
              "      <td>VP</td>\n",
              "    </tr>\n",
              "    <tr>\n",
              "      <th>4</th>\n",
              "      <td>4</td>\n",
              "      <td>e</td>\n",
              "      <td>24</td>\n",
              "      <td>VP</td>\n",
              "    </tr>\n",
              "    <tr>\n",
              "      <th>5</th>\n",
              "      <td>5</td>\n",
              "      <td>f</td>\n",
              "      <td>18</td>\n",
              "      <td>CEO</td>\n",
              "    </tr>\n",
              "    <tr>\n",
              "      <th>6</th>\n",
              "      <td>6</td>\n",
              "      <td>g</td>\n",
              "      <td>17</td>\n",
              "      <td>CFO</td>\n",
              "    </tr>\n",
              "  </tbody>\n",
              "</table>\n",
              "</div>"
            ],
            "text/plain": [
              "   Unnamed: 0 name  age designation\n",
              "0           0    a   20          VP\n",
              "1           1    b   22         CEO\n",
              "2           2    c   21         CFO\n",
              "3           3    d   19          VP\n",
              "4           4    e   24          VP\n",
              "5           5    f   18         CEO\n",
              "6           6    g   17         CFO"
            ]
          },
          "metadata": {},
          "execution_count": 11
        }
      ]
    },
    {
      "cell_type": "code",
      "source": [
        "df.to_csv('csv_file', index=False)\n",
        "df_csv = pd.read_csv('csv_file')\n",
        "df_csv"
      ],
      "metadata": {
        "colab": {
          "base_uri": "https://localhost:8080/",
          "height": 269
        },
        "id": "i2C4oW7Hq9__",
        "outputId": "664252a6-7a5a-49ae-946e-e30387c6075f"
      },
      "execution_count": 12,
      "outputs": [
        {
          "output_type": "execute_result",
          "data": {
            "text/html": [
              "<div>\n",
              "<style scoped>\n",
              "    .dataframe tbody tr th:only-of-type {\n",
              "        vertical-align: middle;\n",
              "    }\n",
              "\n",
              "    .dataframe tbody tr th {\n",
              "        vertical-align: top;\n",
              "    }\n",
              "\n",
              "    .dataframe thead th {\n",
              "        text-align: right;\n",
              "    }\n",
              "</style>\n",
              "<table border=\"1\" class=\"dataframe\">\n",
              "  <thead>\n",
              "    <tr style=\"text-align: right;\">\n",
              "      <th></th>\n",
              "      <th>name</th>\n",
              "      <th>age</th>\n",
              "      <th>designation</th>\n",
              "    </tr>\n",
              "  </thead>\n",
              "  <tbody>\n",
              "    <tr>\n",
              "      <th>0</th>\n",
              "      <td>a</td>\n",
              "      <td>20</td>\n",
              "      <td>VP</td>\n",
              "    </tr>\n",
              "    <tr>\n",
              "      <th>1</th>\n",
              "      <td>b</td>\n",
              "      <td>22</td>\n",
              "      <td>CEO</td>\n",
              "    </tr>\n",
              "    <tr>\n",
              "      <th>2</th>\n",
              "      <td>c</td>\n",
              "      <td>21</td>\n",
              "      <td>CFO</td>\n",
              "    </tr>\n",
              "    <tr>\n",
              "      <th>3</th>\n",
              "      <td>d</td>\n",
              "      <td>19</td>\n",
              "      <td>VP</td>\n",
              "    </tr>\n",
              "    <tr>\n",
              "      <th>4</th>\n",
              "      <td>e</td>\n",
              "      <td>24</td>\n",
              "      <td>VP</td>\n",
              "    </tr>\n",
              "    <tr>\n",
              "      <th>5</th>\n",
              "      <td>f</td>\n",
              "      <td>18</td>\n",
              "      <td>CEO</td>\n",
              "    </tr>\n",
              "    <tr>\n",
              "      <th>6</th>\n",
              "      <td>g</td>\n",
              "      <td>17</td>\n",
              "      <td>CFO</td>\n",
              "    </tr>\n",
              "  </tbody>\n",
              "</table>\n",
              "</div>"
            ],
            "text/plain": [
              "  name  age designation\n",
              "0    a   20          VP\n",
              "1    b   22         CEO\n",
              "2    c   21         CFO\n",
              "3    d   19          VP\n",
              "4    e   24          VP\n",
              "5    f   18         CEO\n",
              "6    g   17         CFO"
            ]
          },
          "metadata": {},
          "execution_count": 12
        }
      ]
    },
    {
      "cell_type": "code",
      "source": [
        "Location = 'student-mat.csv'\n",
        "dfs=pd.read_csv(Location)   #header=None\n",
        "dfs.head()"
      ],
      "metadata": {
        "colab": {
          "base_uri": "https://localhost:8080/",
          "height": 226
        },
        "id": "6mdYXvzgrAfG",
        "outputId": "f6010075-6ed7-4473-ec4e-bb4b5e86bed4"
      },
      "execution_count": 13,
      "outputs": [
        {
          "output_type": "execute_result",
          "data": {
            "text/html": [
              "<div>\n",
              "<style scoped>\n",
              "    .dataframe tbody tr th:only-of-type {\n",
              "        vertical-align: middle;\n",
              "    }\n",
              "\n",
              "    .dataframe tbody tr th {\n",
              "        vertical-align: top;\n",
              "    }\n",
              "\n",
              "    .dataframe thead th {\n",
              "        text-align: right;\n",
              "    }\n",
              "</style>\n",
              "<table border=\"1\" class=\"dataframe\">\n",
              "  <thead>\n",
              "    <tr style=\"text-align: right;\">\n",
              "      <th></th>\n",
              "      <th>school</th>\n",
              "      <th>sex</th>\n",
              "      <th>age</th>\n",
              "      <th>address</th>\n",
              "      <th>famsize</th>\n",
              "      <th>Pstatus</th>\n",
              "      <th>Medu</th>\n",
              "      <th>Fedu</th>\n",
              "      <th>Mjob</th>\n",
              "      <th>Fjob</th>\n",
              "      <th>reason</th>\n",
              "      <th>guardian</th>\n",
              "      <th>traveltime</th>\n",
              "      <th>studytime</th>\n",
              "      <th>failures</th>\n",
              "      <th>schoolsup</th>\n",
              "      <th>famsup</th>\n",
              "      <th>paid</th>\n",
              "      <th>activities</th>\n",
              "      <th>nursery</th>\n",
              "      <th>higher</th>\n",
              "      <th>internet</th>\n",
              "      <th>romantic</th>\n",
              "      <th>famrel</th>\n",
              "      <th>freetime</th>\n",
              "      <th>goout</th>\n",
              "      <th>Dalc</th>\n",
              "      <th>Walc</th>\n",
              "      <th>health</th>\n",
              "      <th>absences</th>\n",
              "      <th>G1</th>\n",
              "      <th>G2</th>\n",
              "      <th>G3</th>\n",
              "    </tr>\n",
              "  </thead>\n",
              "  <tbody>\n",
              "    <tr>\n",
              "      <th>0</th>\n",
              "      <td>GP</td>\n",
              "      <td>F</td>\n",
              "      <td>18</td>\n",
              "      <td>U</td>\n",
              "      <td>GT3</td>\n",
              "      <td>A</td>\n",
              "      <td>4</td>\n",
              "      <td>4</td>\n",
              "      <td>at_home</td>\n",
              "      <td>teacher</td>\n",
              "      <td>course</td>\n",
              "      <td>mother</td>\n",
              "      <td>2</td>\n",
              "      <td>2</td>\n",
              "      <td>0</td>\n",
              "      <td>yes</td>\n",
              "      <td>no</td>\n",
              "      <td>no</td>\n",
              "      <td>no</td>\n",
              "      <td>yes</td>\n",
              "      <td>yes</td>\n",
              "      <td>no</td>\n",
              "      <td>no</td>\n",
              "      <td>4</td>\n",
              "      <td>3</td>\n",
              "      <td>4</td>\n",
              "      <td>1</td>\n",
              "      <td>1</td>\n",
              "      <td>3</td>\n",
              "      <td>6</td>\n",
              "      <td>5</td>\n",
              "      <td>6</td>\n",
              "      <td>6</td>\n",
              "    </tr>\n",
              "    <tr>\n",
              "      <th>1</th>\n",
              "      <td>GP</td>\n",
              "      <td>F</td>\n",
              "      <td>17</td>\n",
              "      <td>U</td>\n",
              "      <td>GT3</td>\n",
              "      <td>T</td>\n",
              "      <td>1</td>\n",
              "      <td>1</td>\n",
              "      <td>at_home</td>\n",
              "      <td>other</td>\n",
              "      <td>course</td>\n",
              "      <td>father</td>\n",
              "      <td>1</td>\n",
              "      <td>2</td>\n",
              "      <td>0</td>\n",
              "      <td>no</td>\n",
              "      <td>yes</td>\n",
              "      <td>no</td>\n",
              "      <td>no</td>\n",
              "      <td>no</td>\n",
              "      <td>yes</td>\n",
              "      <td>yes</td>\n",
              "      <td>no</td>\n",
              "      <td>5</td>\n",
              "      <td>3</td>\n",
              "      <td>3</td>\n",
              "      <td>1</td>\n",
              "      <td>1</td>\n",
              "      <td>3</td>\n",
              "      <td>4</td>\n",
              "      <td>5</td>\n",
              "      <td>5</td>\n",
              "      <td>6</td>\n",
              "    </tr>\n",
              "    <tr>\n",
              "      <th>2</th>\n",
              "      <td>GP</td>\n",
              "      <td>F</td>\n",
              "      <td>15</td>\n",
              "      <td>U</td>\n",
              "      <td>LE3</td>\n",
              "      <td>T</td>\n",
              "      <td>1</td>\n",
              "      <td>1</td>\n",
              "      <td>at_home</td>\n",
              "      <td>other</td>\n",
              "      <td>other</td>\n",
              "      <td>mother</td>\n",
              "      <td>1</td>\n",
              "      <td>2</td>\n",
              "      <td>3</td>\n",
              "      <td>yes</td>\n",
              "      <td>no</td>\n",
              "      <td>yes</td>\n",
              "      <td>no</td>\n",
              "      <td>yes</td>\n",
              "      <td>yes</td>\n",
              "      <td>yes</td>\n",
              "      <td>no</td>\n",
              "      <td>4</td>\n",
              "      <td>3</td>\n",
              "      <td>2</td>\n",
              "      <td>2</td>\n",
              "      <td>3</td>\n",
              "      <td>3</td>\n",
              "      <td>10</td>\n",
              "      <td>7</td>\n",
              "      <td>8</td>\n",
              "      <td>10</td>\n",
              "    </tr>\n",
              "    <tr>\n",
              "      <th>3</th>\n",
              "      <td>GP</td>\n",
              "      <td>F</td>\n",
              "      <td>15</td>\n",
              "      <td>U</td>\n",
              "      <td>GT3</td>\n",
              "      <td>T</td>\n",
              "      <td>4</td>\n",
              "      <td>2</td>\n",
              "      <td>health</td>\n",
              "      <td>services</td>\n",
              "      <td>home</td>\n",
              "      <td>mother</td>\n",
              "      <td>1</td>\n",
              "      <td>3</td>\n",
              "      <td>0</td>\n",
              "      <td>no</td>\n",
              "      <td>yes</td>\n",
              "      <td>yes</td>\n",
              "      <td>yes</td>\n",
              "      <td>yes</td>\n",
              "      <td>yes</td>\n",
              "      <td>yes</td>\n",
              "      <td>yes</td>\n",
              "      <td>3</td>\n",
              "      <td>2</td>\n",
              "      <td>2</td>\n",
              "      <td>1</td>\n",
              "      <td>1</td>\n",
              "      <td>5</td>\n",
              "      <td>2</td>\n",
              "      <td>15</td>\n",
              "      <td>14</td>\n",
              "      <td>15</td>\n",
              "    </tr>\n",
              "    <tr>\n",
              "      <th>4</th>\n",
              "      <td>GP</td>\n",
              "      <td>F</td>\n",
              "      <td>16</td>\n",
              "      <td>U</td>\n",
              "      <td>GT3</td>\n",
              "      <td>T</td>\n",
              "      <td>3</td>\n",
              "      <td>3</td>\n",
              "      <td>other</td>\n",
              "      <td>other</td>\n",
              "      <td>home</td>\n",
              "      <td>father</td>\n",
              "      <td>1</td>\n",
              "      <td>2</td>\n",
              "      <td>0</td>\n",
              "      <td>no</td>\n",
              "      <td>yes</td>\n",
              "      <td>yes</td>\n",
              "      <td>no</td>\n",
              "      <td>yes</td>\n",
              "      <td>yes</td>\n",
              "      <td>no</td>\n",
              "      <td>no</td>\n",
              "      <td>4</td>\n",
              "      <td>3</td>\n",
              "      <td>2</td>\n",
              "      <td>1</td>\n",
              "      <td>2</td>\n",
              "      <td>5</td>\n",
              "      <td>4</td>\n",
              "      <td>6</td>\n",
              "      <td>10</td>\n",
              "      <td>10</td>\n",
              "    </tr>\n",
              "  </tbody>\n",
              "</table>\n",
              "</div>"
            ],
            "text/plain": [
              "  school sex  age address famsize Pstatus  ...  Walc  health absences  G1  G2  G3\n",
              "0     GP   F   18       U     GT3       A  ...     1       3        6   5   6   6\n",
              "1     GP   F   17       U     GT3       T  ...     1       3        4   5   5   6\n",
              "2     GP   F   15       U     LE3       T  ...     3       3       10   7   8  10\n",
              "3     GP   F   15       U     GT3       T  ...     1       5        2  15  14  15\n",
              "4     GP   F   16       U     GT3       T  ...     2       5        4   6  10  10\n",
              "\n",
              "[5 rows x 33 columns]"
            ]
          },
          "metadata": {},
          "execution_count": 13
        }
      ]
    },
    {
      "cell_type": "code",
      "source": [
        "names = ['Bob', 'Janice', 'Ross', 'Rachel', 'Joey']\n",
        "grades = [76,95,77,78,99]\n",
        "bscdegree = [1,1,0,0,1]\n",
        "mscdegree = [2,1,2,0,0]\n",
        "phddegree = [0,1,0,2,0]\n",
        "Degrees = zip(names, grades, bscdegree, mscdegree, phddegree)\n",
        "columns = ['Names', 'Grades', 'Bsc', 'Msc', 'phD']\n",
        "df1 = pd.DataFrame(data = Degrees, columns= columns)\n",
        "df1"
      ],
      "metadata": {
        "colab": {
          "base_uri": "https://localhost:8080/",
          "height": 206
        },
        "id": "EpDe8yHIrMw_",
        "outputId": "39a7c39b-dd0c-4dc0-fd18-907182b2230f"
      },
      "execution_count": 14,
      "outputs": [
        {
          "output_type": "execute_result",
          "data": {
            "text/html": [
              "<div>\n",
              "<style scoped>\n",
              "    .dataframe tbody tr th:only-of-type {\n",
              "        vertical-align: middle;\n",
              "    }\n",
              "\n",
              "    .dataframe tbody tr th {\n",
              "        vertical-align: top;\n",
              "    }\n",
              "\n",
              "    .dataframe thead th {\n",
              "        text-align: right;\n",
              "    }\n",
              "</style>\n",
              "<table border=\"1\" class=\"dataframe\">\n",
              "  <thead>\n",
              "    <tr style=\"text-align: right;\">\n",
              "      <th></th>\n",
              "      <th>Names</th>\n",
              "      <th>Grades</th>\n",
              "      <th>Bsc</th>\n",
              "      <th>Msc</th>\n",
              "      <th>phD</th>\n",
              "    </tr>\n",
              "  </thead>\n",
              "  <tbody>\n",
              "    <tr>\n",
              "      <th>0</th>\n",
              "      <td>Bob</td>\n",
              "      <td>76</td>\n",
              "      <td>1</td>\n",
              "      <td>2</td>\n",
              "      <td>0</td>\n",
              "    </tr>\n",
              "    <tr>\n",
              "      <th>1</th>\n",
              "      <td>Janice</td>\n",
              "      <td>95</td>\n",
              "      <td>1</td>\n",
              "      <td>1</td>\n",
              "      <td>1</td>\n",
              "    </tr>\n",
              "    <tr>\n",
              "      <th>2</th>\n",
              "      <td>Ross</td>\n",
              "      <td>77</td>\n",
              "      <td>0</td>\n",
              "      <td>2</td>\n",
              "      <td>0</td>\n",
              "    </tr>\n",
              "    <tr>\n",
              "      <th>3</th>\n",
              "      <td>Rachel</td>\n",
              "      <td>78</td>\n",
              "      <td>0</td>\n",
              "      <td>0</td>\n",
              "      <td>2</td>\n",
              "    </tr>\n",
              "    <tr>\n",
              "      <th>4</th>\n",
              "      <td>Joey</td>\n",
              "      <td>99</td>\n",
              "      <td>1</td>\n",
              "      <td>0</td>\n",
              "      <td>0</td>\n",
              "    </tr>\n",
              "  </tbody>\n",
              "</table>\n",
              "</div>"
            ],
            "text/plain": [
              "    Names  Grades  Bsc  Msc  phD\n",
              "0     Bob      76    1    2    0\n",
              "1  Janice      95    1    1    1\n",
              "2    Ross      77    0    2    0\n",
              "3  Rachel      78    0    0    2\n",
              "4    Joey      99    1    0    0"
            ]
          },
          "metadata": {},
          "execution_count": 14
        }
      ]
    },
    {
      "cell_type": "code",
      "source": [
        "Location1 = 'gradedata.xlsx'\n",
        "df2 = pd.read_excel(Location1)\n",
        "\n",
        "#changing column names\n",
        "df2.columns = ['First', 'Last', 'Sex', 'Age', 'Exer', 'Hrs', 'Grade', 'Address']\n",
        "df2.head()"
      ],
      "metadata": {
        "colab": {
          "base_uri": "https://localhost:8080/",
          "height": 206
        },
        "id": "7DJi2AV1rNR-",
        "outputId": "95ed3b90-8b29-432d-fb98-c26d2a17ce46"
      },
      "execution_count": 15,
      "outputs": [
        {
          "output_type": "execute_result",
          "data": {
            "text/html": [
              "<div>\n",
              "<style scoped>\n",
              "    .dataframe tbody tr th:only-of-type {\n",
              "        vertical-align: middle;\n",
              "    }\n",
              "\n",
              "    .dataframe tbody tr th {\n",
              "        vertical-align: top;\n",
              "    }\n",
              "\n",
              "    .dataframe thead th {\n",
              "        text-align: right;\n",
              "    }\n",
              "</style>\n",
              "<table border=\"1\" class=\"dataframe\">\n",
              "  <thead>\n",
              "    <tr style=\"text-align: right;\">\n",
              "      <th></th>\n",
              "      <th>First</th>\n",
              "      <th>Last</th>\n",
              "      <th>Sex</th>\n",
              "      <th>Age</th>\n",
              "      <th>Exer</th>\n",
              "      <th>Hrs</th>\n",
              "      <th>Grade</th>\n",
              "      <th>Address</th>\n",
              "    </tr>\n",
              "  </thead>\n",
              "  <tbody>\n",
              "    <tr>\n",
              "      <th>0</th>\n",
              "      <td>Marcia</td>\n",
              "      <td>Pugh</td>\n",
              "      <td>female</td>\n",
              "      <td>17</td>\n",
              "      <td>3</td>\n",
              "      <td>10</td>\n",
              "      <td>82.4</td>\n",
              "      <td>7379 Highland Rd. , Dublin, GA 31021</td>\n",
              "    </tr>\n",
              "    <tr>\n",
              "      <th>1</th>\n",
              "      <td>Kadeem</td>\n",
              "      <td>Morrison</td>\n",
              "      <td>male</td>\n",
              "      <td>18</td>\n",
              "      <td>4</td>\n",
              "      <td>4</td>\n",
              "      <td>78.2</td>\n",
              "      <td>8 Bayport St. , Honolulu, HI 96815</td>\n",
              "    </tr>\n",
              "    <tr>\n",
              "      <th>2</th>\n",
              "      <td>Nash</td>\n",
              "      <td>Powell</td>\n",
              "      <td>male</td>\n",
              "      <td>18</td>\n",
              "      <td>5</td>\n",
              "      <td>9</td>\n",
              "      <td>79.3</td>\n",
              "      <td>Encino, CA 91316, 3 Lilac Street</td>\n",
              "    </tr>\n",
              "    <tr>\n",
              "      <th>3</th>\n",
              "      <td>Noelani</td>\n",
              "      <td>Wagner</td>\n",
              "      <td>female</td>\n",
              "      <td>14</td>\n",
              "      <td>2</td>\n",
              "      <td>7</td>\n",
              "      <td>83.2</td>\n",
              "      <td>Riverview, FL 33569, 9998 North Smith Dr.</td>\n",
              "    </tr>\n",
              "    <tr>\n",
              "      <th>4</th>\n",
              "      <td>Noelani</td>\n",
              "      <td>Cherry</td>\n",
              "      <td>female</td>\n",
              "      <td>18</td>\n",
              "      <td>4</td>\n",
              "      <td>15</td>\n",
              "      <td>87.4</td>\n",
              "      <td>97 SE. Ocean Street , Bethlehem, PA 18015</td>\n",
              "    </tr>\n",
              "  </tbody>\n",
              "</table>\n",
              "</div>"
            ],
            "text/plain": [
              "     First      Last  ... Grade                                     Address\n",
              "0   Marcia      Pugh  ...  82.4        7379 Highland Rd. , Dublin, GA 31021\n",
              "1   Kadeem  Morrison  ...  78.2          8 Bayport St. , Honolulu, HI 96815\n",
              "2     Nash    Powell  ...  79.3           Encino, CA 91316, 3 Lilac Street \n",
              "3  Noelani    Wagner  ...  83.2  Riverview, FL 33569, 9998 North Smith Dr. \n",
              "4  Noelani    Cherry  ...  87.4   97 SE. Ocean Street , Bethlehem, PA 18015\n",
              "\n",
              "[5 rows x 8 columns]"
            ]
          },
          "metadata": {},
          "execution_count": 15
        }
      ]
    },
    {
      "cell_type": "code",
      "source": [
        "names = ['Bob', 'Janice', 'Ross', 'Rachel', 'Joey']\n",
        "grades = [76,95,77,78,99]\n",
        "GradeList = zip(names, grades)\n",
        "df3 = pd.DataFrame(data = GradeList, columns=['Names', 'Grades'])\n",
        "\n",
        "writer = pd.ExcelWriter('gradelist.xlsx', engine='xlsxwriter')\n",
        "df3.to_excel(writer, sheet_name='Sheet1')\n",
        "writer.save()"
      ],
      "metadata": {
        "id": "m1PukMbzrVCn"
      },
      "execution_count": 16,
      "outputs": []
    },
    {
      "cell_type": "code",
      "source": [
        "import sqlite3\n",
        "\n",
        "#create a SQL connection\n",
        "con=sqlite3.connect('portal_mammals.sqlite')\n",
        "\n",
        "cur=con.cursor()\n",
        "\n",
        "#the result can be iterated over by row\n",
        "for row in cur.execute('SELECT * FROM species;'):\n",
        "    print(row)\n",
        "\n",
        "#close connection\n",
        "con.close()"
      ],
      "metadata": {
        "colab": {
          "base_uri": "https://localhost:8080/"
        },
        "id": "McfdMb6Hrfcv",
        "outputId": "29fdc3e0-453f-4e08-ea2b-d75f2841f886"
      },
      "execution_count": 19,
      "outputs": [
        {
          "output_type": "stream",
          "name": "stdout",
          "text": [
            "('AB', 'Amphispiza', 'bilineata', 'Bird')\n",
            "('AH', 'Ammospermophilus', 'harrisi', 'Rodent')\n",
            "('AS', 'Ammodramus', 'savannarum', 'Bird')\n",
            "('BA', 'Baiomys', 'taylori', 'Rodent')\n",
            "('CB', 'Campylorhynchus', 'brunneicapillus', 'Bird')\n",
            "('CM', 'Calamospiza', 'melanocorys', 'Bird')\n",
            "('CQ', 'Callipepla', 'squamata', 'Bird')\n",
            "('CS', 'Crotalus', 'scutalatus', 'Reptile')\n",
            "('CT', 'Cnemidophorus', 'tigris', 'Reptile')\n",
            "('CU', 'Cnemidophorus', 'uniparens', 'Reptile')\n",
            "('CV', 'Crotalus', 'viridis', 'Reptile')\n",
            "('DM', 'Dipodomys', 'merriami', 'Rodent')\n",
            "('DO', 'Dipodomys', 'ordii', 'Rodent')\n",
            "('DS', 'Dipodomys', 'spectabilis', 'Rodent')\n",
            "('DX', 'Dipodomys', 'sp.', 'Rodent')\n",
            "('EO', 'Eumeces', 'obsoletus', 'Reptile')\n",
            "('GS', 'Gambelia', 'silus', 'Reptile')\n",
            "('NL', 'Neotoma', 'albigula', 'Rodent')\n",
            "('NX', 'Neotoma', 'sp.', 'Rodent')\n",
            "('OL', 'Onychomys', 'leucogaster', 'Rodent')\n",
            "('OT', 'Onychomys', 'torridus', 'Rodent')\n",
            "('OX', 'Onychomys', 'sp.', 'Rodent')\n",
            "('PB', 'Chaetodipus', 'baileyi', 'Rodent')\n",
            "('PC', 'Pipilo', 'chlorurus', 'Bird')\n",
            "('PE', 'Peromyscus', 'eremicus', 'Rodent')\n",
            "('PF', 'Perognathus', 'flavus', 'Rodent')\n",
            "('PG', 'Pooecetes', 'gramineus', 'Bird')\n",
            "('PH', 'Perognathus', 'hispidus', 'Rodent')\n",
            "('PI', 'Chaetodipus', 'intermedius', 'Rodent')\n",
            "('PL', 'Peromyscus', 'leucopus', 'Rodent')\n",
            "('PM', 'Peromyscus', 'maniculatus', 'Rodent')\n",
            "('PP', 'Chaetodipus', 'penicillatus', 'Rodent')\n",
            "('PU', 'Pipilo', 'fuscus', 'Bird')\n",
            "('PX', 'Chaetodipus', 'sp.', 'Rodent')\n",
            "('RF', 'Reithrodontomys', 'fulvescens', 'Rodent')\n",
            "('RM', 'Reithrodontomys', 'megalotis', 'Rodent')\n",
            "('RO', 'Reithrodontomys', 'montanus', 'Rodent')\n",
            "('RX', 'Reithrodontomys', 'sp.', 'Rodent')\n",
            "('SA', 'Sylvilagus', 'audubonii', 'Rabbit')\n",
            "('SB', 'Spizella', 'breweri', 'Bird')\n",
            "('SC', 'Sceloporus', 'clarki', 'Reptile')\n",
            "('SF', 'Sigmodon', 'fulviventer', 'Rodent')\n",
            "('SH', 'Sigmodon', 'hispidus', 'Rodent')\n",
            "('SO', 'Sigmodon', 'ochrognathus', 'Rodent')\n",
            "('SS', 'Spermophilus', 'spilosoma', 'Rodent')\n",
            "('ST', 'Spermophilus', 'tereticaudus', 'Rodent')\n",
            "('SU', 'Sceloporus', 'undulatus', 'Reptile')\n",
            "('SX', 'Sigmodon', 'sp.', 'Rodent')\n",
            "('UL', 'Lizard', 'sp.', 'Reptile')\n",
            "('UP', 'Pipilo', 'sp.', 'Bird')\n",
            "('UR', 'Rodent', 'sp.', 'Rodent')\n",
            "('US', 'Sparrow', 'sp.', 'Bird')\n",
            "('ZL', 'Zonotrichia', 'leucophrys', 'Bird')\n",
            "('ZM', 'Zenaida', 'macroura', 'Bird')\n"
          ]
        }
      ]
    },
    {
      "cell_type": "code",
      "source": [
        "import sqlite3\n",
        "\n",
        "#create a SQL connection\n",
        "con=sqlite3.connect('portal_mammals.sqlite')\n",
        "\n",
        "cur=con.cursor()\n",
        "\n",
        "#return all results of query\n",
        "cur.execute('SELECT plot_id from plots where plot_type=\"Control\" ')\n",
        "print(cur.fetchall())\n",
        "\n",
        "#return first result of query\n",
        "cur.execute('Select species from species where taxa=\"Bird\" ')\n",
        "print(cur.fetchone())\n",
        "\n",
        "#close connection\n",
        "con.close()"
      ],
      "metadata": {
        "colab": {
          "base_uri": "https://localhost:8080/"
        },
        "id": "e-4ksCWZrkse",
        "outputId": "c538492d-b254-4668-c6c4-165a4ab86e69"
      },
      "execution_count": 20,
      "outputs": [
        {
          "output_type": "stream",
          "name": "stdout",
          "text": [
            "[(2,), (4,), (8,), (11,), (12,), (14,), (17,), (22,)]\n",
            "('bilineata',)\n"
          ]
        }
      ]
    },
    {
      "cell_type": "code",
      "source": [
        "from pandas import DataFrame\n",
        "\n",
        "Cars = {\n",
        "    'Brand':['Honda', 'Toyota', 'Ford', 'Audi'],\n",
        "    'Price':[22000, 54000, 45000, 75000]\n",
        "}\n",
        "\n",
        "df4 = DataFrame(Cars,columns=['Brand', 'Price'])\n",
        "print(df4)"
      ],
      "metadata": {
        "colab": {
          "base_uri": "https://localhost:8080/"
        },
        "id": "-vQJYKsOrviW",
        "outputId": "3752bed8-a521-4d3f-d9cc-6a59443b7f0b"
      },
      "execution_count": 21,
      "outputs": [
        {
          "output_type": "stream",
          "name": "stdout",
          "text": [
            "    Brand  Price\n",
            "0   Honda  22000\n",
            "1  Toyota  54000\n",
            "2    Ford  45000\n",
            "3    Audi  75000\n"
          ]
        }
      ]
    },
    {
      "cell_type": "code",
      "source": [
        "import sqlite3\n",
        "\n",
        "conn=sqlite3.connect('Data.db')\n",
        "c=conn.cursor()"
      ],
      "metadata": {
        "id": "P3nWLt_Mr0DO"
      },
      "execution_count": 22,
      "outputs": []
    },
    {
      "cell_type": "code",
      "source": [
        "c.execute('create table Cars_DS(Brand varchar(20), Price number)')\n",
        "conn.commit()"
      ],
      "metadata": {
        "id": "Vomld3GesSCA"
      },
      "execution_count": 23,
      "outputs": []
    },
    {
      "cell_type": "code",
      "source": [
        "df4.to_sql('Cars', conn, if_exists='replace', index=False)"
      ],
      "metadata": {
        "id": "lZEHDzWHsSXO"
      },
      "execution_count": 24,
      "outputs": []
    },
    {
      "cell_type": "code",
      "source": [
        "c.execute('select Brand, max(Price) from Cars;')"
      ],
      "metadata": {
        "id": "3a_vE-HTsT4G",
        "outputId": "261584a8-191d-49f9-b07c-2660b12885e3",
        "colab": {
          "base_uri": "https://localhost:8080/"
        }
      },
      "execution_count": 25,
      "outputs": [
        {
          "output_type": "execute_result",
          "data": {
            "text/plain": [
              "<sqlite3.Cursor at 0x7f0412b32ce0>"
            ]
          },
          "metadata": {},
          "execution_count": 25
        }
      ]
    },
    {
      "cell_type": "code",
      "source": [
        "df4 = DataFrame(c.fetchall(), columns=['Brand', 'Price'])\n",
        "df4"
      ],
      "metadata": {
        "id": "U4vbDzUSsVmn",
        "outputId": "b283e1be-4e04-4320-b1ba-d807dec88f10",
        "colab": {
          "base_uri": "https://localhost:8080/",
          "height": 81
        }
      },
      "execution_count": 26,
      "outputs": [
        {
          "output_type": "execute_result",
          "data": {
            "text/html": [
              "<div>\n",
              "<style scoped>\n",
              "    .dataframe tbody tr th:only-of-type {\n",
              "        vertical-align: middle;\n",
              "    }\n",
              "\n",
              "    .dataframe tbody tr th {\n",
              "        vertical-align: top;\n",
              "    }\n",
              "\n",
              "    .dataframe thead th {\n",
              "        text-align: right;\n",
              "    }\n",
              "</style>\n",
              "<table border=\"1\" class=\"dataframe\">\n",
              "  <thead>\n",
              "    <tr style=\"text-align: right;\">\n",
              "      <th></th>\n",
              "      <th>Brand</th>\n",
              "      <th>Price</th>\n",
              "    </tr>\n",
              "  </thead>\n",
              "  <tbody>\n",
              "    <tr>\n",
              "      <th>0</th>\n",
              "      <td>Audi</td>\n",
              "      <td>75000</td>\n",
              "    </tr>\n",
              "  </tbody>\n",
              "</table>\n",
              "</div>"
            ],
            "text/plain": [
              "  Brand  Price\n",
              "0  Audi  75000"
            ]
          },
          "metadata": {},
          "execution_count": 26
        }
      ]
    }
  ]
}