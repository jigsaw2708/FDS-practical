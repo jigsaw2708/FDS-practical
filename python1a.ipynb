{
  "nbformat": 4,
  "nbformat_minor": 0,
  "metadata": {
    "colab": {
      "name": "python1a.ipynb",
      "provenance": [],
      "authorship_tag": "ABX9TyOJovaHQZkJmw8Ik1YLHix7",
      "include_colab_link": true
    },
    "kernelspec": {
      "name": "python3",
      "display_name": "Python 3"
    },
    "language_info": {
      "name": "python"
    }
  },
  "cells": [
    {
      "cell_type": "markdown",
      "metadata": {
        "id": "view-in-github",
        "colab_type": "text"
      },
      "source": [
        "<a href=\"https://colab.research.google.com/github/jigsaw2708/FDS-practical/blob/main/python1a.ipynb\" target=\"_parent\"><img src=\"https://colab.research.google.com/assets/colab-badge.svg\" alt=\"Open In Colab\"/></a>"
      ]
    },
    {
      "cell_type": "code",
      "metadata": {
        "colab": {
          "base_uri": "https://localhost:8080/"
        },
        "id": "xuX9Nm4Up9Lj",
        "outputId": "c90f59c7-5e44-4d09-cd39-9307debf7329"
      },
      "source": [
        "import pandas\n",
        "import numpy\n",
        "\n",
        "file = pandas.read_csv('student-mat.csv')\n",
        "print(file.head())  # Returns only 5 rows or records\n",
        "print(\"\\n--------------------------\\n\", file)  # returns all the data"
      ],
      "execution_count": 1,
      "outputs": [
        {
          "output_type": "stream",
          "name": "stdout",
          "text": [
            "  school sex  age address famsize Pstatus  ...  Walc  health absences  G1  G2  G3\n",
            "0     GP   F   18       U     GT3       A  ...     1       3        6   5   6   6\n",
            "1     GP   F   17       U     GT3       T  ...     1       3        4   5   5   6\n",
            "2     GP   F   15       U     LE3       T  ...     3       3       10   7   8  10\n",
            "3     GP   F   15       U     GT3       T  ...     1       5        2  15  14  15\n",
            "4     GP   F   16       U     GT3       T  ...     2       5        4   6  10  10\n",
            "\n",
            "[5 rows x 33 columns]\n",
            "\n",
            "--------------------------\n",
            "     school sex  age address famsize Pstatus  ...  Walc  health absences  G1  G2  G3\n",
            "0       GP   F   18       U     GT3       A  ...     1       3        6   5   6   6\n",
            "1       GP   F   17       U     GT3       T  ...     1       3        4   5   5   6\n",
            "2       GP   F   15       U     LE3       T  ...     3       3       10   7   8  10\n",
            "3       GP   F   15       U     GT3       T  ...     1       5        2  15  14  15\n",
            "4       GP   F   16       U     GT3       T  ...     2       5        4   6  10  10\n",
            "..     ...  ..  ...     ...     ...     ...  ...   ...     ...      ...  ..  ..  ..\n",
            "390     MS   M   20       U     LE3       A  ...     5       4       11   9   9   9\n",
            "391     MS   M   17       U     LE3       T  ...     4       2        3  14  16  16\n",
            "392     MS   M   21       R     GT3       T  ...     3       3        3  10   8   7\n",
            "393     MS   M   18       R     LE3       T  ...     4       5        0  11  12  10\n",
            "394     MS   M   19       U     LE3       T  ...     3       5        5   8   9   9\n",
            "\n",
            "[395 rows x 33 columns]\n"
          ]
        }
      ]
    }
  ]
}